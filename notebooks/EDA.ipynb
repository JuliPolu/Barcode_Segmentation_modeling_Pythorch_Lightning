{
 "cells": [
  {
   "cell_type": "code",
   "execution_count": null,
   "metadata": {},
   "outputs": [],
   "source": [
    "import os\n",
    "import torch\n",
    "import cv2\n",
    "import pandas as pd\n",
    "import matplotlib.pyplot as plt\n",
    "import pytorch_lightning as pl\n",
    "import segmentation_models_pytorch as smp\n",
    "\n",
    "from pprint import pprint\n",
    "from torch.utils.data import DataLoader\n",
    "\n",
    "from src.dataset import SegmentationDataset\n",
    "import logging\n",
    "import os\n",
    "from typing import Optional, Tuple\n",
    "\n",
    "import pandas as pd\n",
    "from torch.utils.data import DataLoader, Dataset\n",
    "from src.config import DataConfig\n",
    "from src.dataset import SegmentationDataset\n",
    "from src.augmentations import get_transforms\n",
    "from src.dataset_splitter import split_subsets\n",
    "\n",
    "%load_ext autoreload\n",
    "%autoreload 2"
   ]
  },
  {
   "cell_type": "code",
   "execution_count": null,
   "metadata": {},
   "outputs": [],
   "source": [
    "PATH = './data/'\n",
    "df_path = os.path.normpath(os.path.join(PATH, 'annotations.tsv'))\n",
    "df = pd.read_csv(df_path, delimiter='\\t')\n",
    "pprint(f'Original dataset: {len(df)}')\n",
    "df = df.drop_duplicates()\n",
    "df = df.drop(['code'], axis=1)\n",
    "pprint(f'Final dataset: {len(df)}')"
   ]
  },
  {
   "cell_type": "code",
   "execution_count": null,
   "metadata": {},
   "outputs": [],
   "source": [
    "df.head(2)"
   ]
  },
  {
   "cell_type": "code",
   "execution_count": null,
   "metadata": {},
   "outputs": [],
   "source": [
    "image = cv2.imread('data\\\\images\\\\0.jpg')\n",
    "image = cv2.cvtColor(image, cv2.COLOR_BGR2RGB)\n",
    "image.shape"
   ]
  },
  {
   "cell_type": "code",
   "execution_count": null,
   "metadata": {},
   "outputs": [],
   "source": [
    "# Example usage\n",
    "image_directory = \"C:\\\\Users\\\\julia\\\\CV\\\\01-SEGMENTATION\\\\data\"\n",
    "\n",
    "train_transforms = get_transforms(width=320, height=320, encoder = 'resnet34')\n",
    "valid_transforms = get_transforms(width=320, height=320, encoder = 'resnet34', augmentations=False)\n",
    "test_transforms = get_transforms(width=320, height=320, encoder = 'resnet34', augmentations=False)\n",
    "\n",
    "train_df, valid_df, test_df = split_subsets(df, train_fraction=0.8)\n",
    "\n",
    "train_dataset = SegmentationDataset(\n",
    "    train_df,\n",
    "    image_folder=image_directory,\n",
    "    transforms=train_transforms)\n",
    "\n",
    "valid_dataset = SegmentationDataset(\n",
    "    valid_df,\n",
    "    image_folder=image_directory,\n",
    "    transforms=valid_transforms\n",
    ")\n",
    "\n",
    "test_dataset = SegmentationDataset(\n",
    "    test_df,\n",
    "    image_folder=image_directory,\n",
    "    transforms=test_transforms\n",
    ")"
   ]
  },
  {
   "cell_type": "code",
   "execution_count": null,
   "metadata": {},
   "outputs": [],
   "source": [
    "import matplotlib.pyplot as plt\n",
    "import random\n",
    "\n",
    "sample_img, sample_mask = train_dataset[random.choice(range(len(train_dataset)))]\n",
    "sample_img = sample_img.permute(1, 2, 0)\n",
    "plt.subplot(1,2,1)\n",
    "plt.title(\"Sample from trainining set\")\n",
    "plt.axis(\"off\")\n",
    "plt.imshow(sample_img.squeeze())\n",
    "plt.subplot(1,2,2)\n",
    "plt.axis(\"off\")\n",
    "plt.imshow(sample_mask.squeeze(), cmap='gray')\n",
    "plt.show()\n",
    "\n",
    "sample_img, sample_mask = train_dataset[random.choice(range(len(valid_dataset)))]\n",
    "sample_img = sample_img.permute(1, 2, 0)\n",
    "plt.subplot(1,2,1)\n",
    "plt.title(\"Sample from validation set\")\n",
    "plt.axis(\"off\")\n",
    "plt.imshow(sample_img.squeeze())\n",
    "plt.subplot(1,2,2)\n",
    "plt.axis(\"off\")\n",
    "plt.imshow(sample_mask.squeeze(), cmap='gray')\n",
    "plt.show()\n",
    "\n",
    "sample_img, sample_mask = train_dataset[random.choice(range(len(test_dataset)))]\n",
    "sample_img = sample_img.permute(1, 2, 0)\n",
    "plt.subplot(1,2,1)\n",
    "plt.title(\"Sample from validation set\")\n",
    "plt.axis(\"off\")\n",
    "plt.imshow(sample_img.squeeze())\n",
    "plt.subplot(1,2,2)\n",
    "plt.axis(\"off\")\n",
    "plt.imshow(sample_mask.squeeze(), cmap='gray')\n",
    "plt.show()"
   ]
  }
 ],
 "metadata": {
  "kernelspec": {
   "display_name": "venv",
   "language": "python",
   "name": "python3"
  },
  "language_info": {
   "codemirror_mode": {
    "name": "ipython",
    "version": 3
   },
   "file_extension": ".py",
   "mimetype": "text/x-python",
   "name": "python",
   "nbconvert_exporter": "python",
   "pygments_lexer": "ipython3",
   "version": "3.9.10"
  }
 },
 "nbformat": 4,
 "nbformat_minor": 2
}
